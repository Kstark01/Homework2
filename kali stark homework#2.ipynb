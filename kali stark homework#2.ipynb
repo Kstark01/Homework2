{
 "cells": [
  {
   "cell_type": "code",
   "execution_count": 1,
   "id": "3b22d5a3",
   "metadata": {},
   "outputs": [
    {
     "name": "stdout",
     "output_type": "stream",
     "text": [
      "0\n",
      "1\n",
      "2\n",
      "3\n",
      "4\n"
     ]
    }
   ],
   "source": [
    "#question 1\n",
    "n = 0\n",
    "\n",
    "while n < 10:\n",
    "    print(n)\n",
    "    n = n + 1\n",
    "    if n == 5:\n",
    "        break"
   ]
  },
  {
   "cell_type": "code",
   "execution_count": 5,
   "id": "73ef97d0",
   "metadata": {},
   "outputs": [
    {
     "name": "stdout",
     "output_type": "stream",
     "text": [
      "0\n",
      "1\n",
      "2\n",
      "3\n",
      "4\n",
      "5 is not less than 5\n"
     ]
    }
   ],
   "source": [
    "#question 2\n",
    "n = 0 \n",
    "while n < 5:\n",
    "    print(n)\n",
    "    n += 1\n",
    "    if n >= 5:\n",
    "        print(n, \"is not less than 5\")"
   ]
  },
  {
   "cell_type": "code",
   "execution_count": 10,
   "id": "4aa23995",
   "metadata": {},
   "outputs": [
    {
     "name": "stdout",
     "output_type": "stream",
     "text": [
      "I like strawberries\n",
      "I like bananas\n",
      "I like blueberries\n",
      "I like grapes\n",
      "is apple a fruit?\n"
     ]
    }
   ],
   "source": [
    "#question 3\n",
    "my_fruits = [\"strawberries\", \"bananas\", \"blueberries\", \"grapes\", \"apple\", \"pineapple\", \"tomato\"]\n",
    "\n",
    "for fruit in my_fruits:\n",
    "    if fruit != \"apple\":\n",
    "        print(\"I like\", fruit)\n",
    "    if fruit == \"apple\":\n",
    "        print(\"is {} a fruit?\".format(fruit))\n",
    "        break\n",
    "    "
   ]
  },
  {
   "cell_type": "code",
   "execution_count": 16,
   "id": "53cc109a",
   "metadata": {},
   "outputs": [
    {
     "name": "stdout",
     "output_type": "stream",
     "text": [
      "465\n"
     ]
    }
   ],
   "source": [
    "#question 4\n",
    "\n",
    "lst = list(range(1, 31))\n",
    "\n",
    "x = 0\n",
    "lst_sum = 0\n",
    "\n",
    "while x < len(lst):\n",
    "    lst_sum += lst[x]\n",
    "    x += 1\n",
    "    \n",
    "print(lst_sum)"
   ]
  },
  {
   "cell_type": "code",
   "execution_count": 20,
   "id": "77c04293",
   "metadata": {},
   "outputs": [
    {
     "name": "stdout",
     "output_type": "stream",
     "text": [
      "['FAIL', 'FAIL', 'D', 'A', 'A', 'A', 'D', 'C', 'B', 'B', 'B', 'B', 'C', 'C']\n"
     ]
    }
   ],
   "source": [
    "#question 5\n",
    "\n",
    "def grade(score):\n",
    "        if score >= 90:\n",
    "            grade = \"A\"\n",
    "        elif 80 <= score < 90:\n",
    "            grade = \"B\"\n",
    "        elif 70 <= score < 80:\n",
    "            grade = \"C\"\n",
    "        elif 50 <= score < 70:\n",
    "            grade = \"D\"\n",
    "        else:\n",
    "            grade = \"FAIL\"\n",
    "        return grade\n",
    "\n",
    "sample_scores = [25, 34, 56, 90, 99, 101, 67, 78, 88, 89, 80, 81, 75, 79]\n",
    "\n",
    "sample_grades = []\n",
    "\n",
    "for score in sample_scores:\n",
    "    grade1 = grade(score)\n",
    "    sample_grades.append(grade1)\n",
    "    \n",
    "print(sample_grades)"
   ]
  },
  {
   "cell_type": "code",
   "execution_count": 21,
   "id": "c1fcb731",
   "metadata": {},
   "outputs": [
    {
     "name": "stdout",
     "output_type": "stream",
     "text": [
      "Andy got this grade B\n",
      "Amy got this grade D\n",
      "James got this grade A\n",
      "Jules got this grade D\n",
      "Arthur got this grade C\n"
     ]
    }
   ],
   "source": [
    "#question 6.1:\n",
    "students = {'Andy':88, 'Amy':66, 'James': 90, 'Jules': 55, 'Arthur': 77}\n",
    "\n",
    "for key in students:\n",
    "    n = key\n",
    "    s = students[key]\n",
    "    g = grade(s)\n",
    "    print(\"{} got this grade: {}\".format(n, g))"
   ]
  },
  {
   "cell_type": "code",
   "execution_count": 23,
   "id": "1e8c7985",
   "metadata": {},
   "outputs": [
    {
     "name": "stdout",
     "output_type": "stream",
     "text": [
      "average grade is C\n",
      "highest grade is A\n",
      "lowest grade is D\n"
     ]
    }
   ],
   "source": [
    "#6.2\n",
    "\n",
    "import statistics as stats\n",
    "\n",
    "raw = list(students.values())\n",
    "\n",
    "av_score = stats.mean(raw)\n",
    "av_grade = grade(av_score)\n",
    "\n",
    "max_score = max(raw)\n",
    "min_score = min(raw)\n",
    "\n",
    "max_grade = grade(max_score)\n",
    "min_grade = grade(min_score)\n",
    "\n",
    "print(\"average grade is\", av_grade)\n",
    "print(\"highest grade is\", max_grade)\n",
    "print(\"lowest grade is\", min_grade)\n",
    "    "
   ]
  },
  {
   "cell_type": "code",
   "execution_count": 25,
   "id": "6f820027",
   "metadata": {},
   "outputs": [
    {
     "name": "stdout",
     "output_type": "stream",
     "text": [
      "Andy\n",
      "Amy\n"
     ]
    }
   ],
   "source": [
    "#6.3\n",
    "\n",
    "for name in list(students.keys()):\n",
    "    if \"J\" not in name:\n",
    "        print(name)\n",
    "    if \"J\" in name:\n",
    "        break"
   ]
  },
  {
   "cell_type": "code",
   "execution_count": 26,
   "id": "c673065f",
   "metadata": {},
   "outputs": [
    {
     "name": "stdout",
     "output_type": "stream",
     "text": [
      "Andy\n",
      "Amy\n",
      "Arthur\n"
     ]
    }
   ],
   "source": [
    "for name in list(students.keys()):\n",
    "    if \"J\" not in name:\n",
    "        print(name)\n",
    "    "
   ]
  },
  {
   "cell_type": "code",
   "execution_count": null,
   "id": "bbc42341",
   "metadata": {},
   "outputs": [],
   "source": []
  }
 ],
 "metadata": {
  "kernelspec": {
   "display_name": "Python 3 (ipykernel)",
   "language": "python",
   "name": "python3"
  },
  "language_info": {
   "codemirror_mode": {
    "name": "ipython",
    "version": 3
   },
   "file_extension": ".py",
   "mimetype": "text/x-python",
   "name": "python",
   "nbconvert_exporter": "python",
   "pygments_lexer": "ipython3",
   "version": "3.9.12"
  }
 },
 "nbformat": 4,
 "nbformat_minor": 5
}
